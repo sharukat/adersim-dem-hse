{
 "cells": [
  {
   "cell_type": "code",
   "execution_count": 1,
   "metadata": {},
   "outputs": [
    {
     "name": "stderr",
     "output_type": "stream",
     "text": [
      "Note: Environment variable`HF_TOKEN` is set and is the current active token independently from the token you've just configured.\n"
     ]
    }
   ],
   "source": [
    "import os\n",
    "import pandas as pd\n",
    "from typing import List\n",
    "from lib.train import Train\n",
    "from lib.topic_modeling import BertTopic\n",
    "from lib.youtube import YouTube\n",
    "from lib.constants import DEM_KEYWORDS, HSE_KEYWORDS, BASE_DATA_PATH\n",
    "from lib.utils import preprocess_text, fix_punctuations, count_tokens\n",
    "from tqdm.notebook import tqdm_notebook\n",
    "from tqdm import tqdm\n",
    "from lib.classify import classifier\n",
    "from lib.createdb import VectorDB\n",
    "from langdetect import detect\n",
    "from langchain_qdrant import QdrantVectorStore, RetrievalMode\n",
    "from langchain_ollama import OllamaEmbeddings\n",
    "from pprint import pprint\n",
    "from dotenv import load_dotenv\n",
    "from googleapiclient.discovery import build\n",
    "from setfit import SetFitModel\n",
    "import evaluate\n",
    "from sklearn.metrics import (\n",
    "    precision_score,\n",
    "    recall_score,\n",
    "    f1_score,\n",
    "    accuracy_score,\n",
    "    classification_report\n",
    ")\n",
    "\n",
    "load_dotenv(dotenv_path=\".env\")\n",
    "API_KEY = os.getenv(\"YOUTUBE_API_KEY\")"
   ]
  },
  {
   "cell_type": "markdown",
   "metadata": {},
   "source": [
    "### Extract relevant video data from YouTube"
   ]
  },
  {
   "cell_type": "code",
   "execution_count": null,
   "metadata": {},
   "outputs": [],
   "source": [
    "YT = YouTube(keywords=HSE_KEYWORDS, filename=\"youtube_HSE\")\n",
    "YT.get_transcript()"
   ]
  },
  {
   "cell_type": "markdown",
   "metadata": {},
   "source": [
    "### Data Preprocessing"
   ]
  },
  {
   "cell_type": "code",
   "execution_count": null,
   "metadata": {},
   "outputs": [],
   "source": [
    "df = pd.read_csv(\"data/youtube_HSE.csv\")\n",
    "tqdm.pandas()\n",
    "\n",
    "# Detect the language\n",
    "df['lang'] = df['transcript'].progress_apply(lambda x: detect(x))\n",
    "df = df[df['lang'] == 'en']\n",
    "\n",
    "# Preprocess\n",
    "df['transcript'] = df['transcript'].progress_apply(preprocess_text)\n",
    "df['transcript'] = df['transcript'].progress_apply(fix_punctuations)\n",
    "\n",
    "df.to_csv(os.path.join(BASE_DATA_PATH, 'youtube_hse_v1.csv'), index=False)"
   ]
  },
  {
   "cell_type": "markdown",
   "metadata": {},
   "source": [
    "### Video Classification"
   ]
  },
  {
   "cell_type": "code",
   "execution_count": 5,
   "metadata": {},
   "outputs": [
    {
     "data": {
      "application/vnd.jupyter.widget-view+json": {
       "model_id": "e7939e5daa7d4ea1a95a84a8dde2d45a",
       "version_major": 2,
       "version_minor": 0
      },
      "text/plain": [
       "  0%|          | 0/1301 [00:00<?, ?it/s]"
      ]
     },
     "metadata": {},
     "output_type": "display_data"
    },
    {
     "data": {
      "text/plain": [
       "is_related\n",
       "yes    863\n",
       "no     438\n",
       "Name: count, dtype: int64"
      ]
     },
     "execution_count": 5,
     "metadata": {},
     "output_type": "execute_result"
    }
   ],
   "source": [
    "df = pd.read_csv(os.path.join(BASE_DATA_PATH, 'youtube_hse_v1.csv'))\n",
    "\n",
    "decisions = []\n",
    "for index, row in tqdm_notebook(df.iterrows(), total=df.shape[0]):\n",
    "    try:\n",
    "        result = classifier(\n",
    "            text=row['transcript'],\n",
    "            context=\"Health, Safety and Environment (HSE)\")\n",
    "        decisions.append(result['output'])\n",
    "    except Exception as e:\n",
    "        print(f\"Issue in index: {index}\")\n",
    "        print(e)\n",
    "        decisions.append('N/A')\n",
    "        pass\n",
    "\n",
    "df['is_related'] = decisions\n",
    "df['is_related'].value_counts()"
   ]
  },
  {
   "cell_type": "code",
   "execution_count": 6,
   "metadata": {},
   "outputs": [],
   "source": [
    "condition = df['is_related'] == 'yes'\n",
    "df_new = df[condition]\n",
    "df_new.to_csv(\n",
    "    os.path.join(BASE_DATA_PATH, 'youtube_hse_v2.csv'), \n",
    "    index=False)"
   ]
  },
  {
   "cell_type": "markdown",
   "metadata": {},
   "source": [
    "### Semantic Chunking"
   ]
  },
  {
   "cell_type": "code",
   "execution_count": 2,
   "metadata": {},
   "outputs": [
    {
     "name": "stderr",
     "output_type": "stream",
     "text": [
      "100%|██████████| 863/863 [00:00<00:00, 80419.56it/s]\n",
      "Processing Documents: 100%|██████████| 863/863 [10:52:38<00:00, 45.37s/it]   \n"
     ]
    }
   ],
   "source": [
    "df = pd.read_csv(os.path.join(BASE_DATA_PATH, 'youtube_hse_v2.csv'))\n",
    "VDB = VectorDB(model=\"llama3.3:latest\", dataframe=df)\n",
    "chunks = VDB.create_chunks()"
   ]
  },
  {
   "cell_type": "code",
   "execution_count": 3,
   "metadata": {},
   "outputs": [
    {
     "data": {
      "text/html": [
       "<div>\n",
       "<style scoped>\n",
       "    .dataframe tbody tr th:only-of-type {\n",
       "        vertical-align: middle;\n",
       "    }\n",
       "\n",
       "    .dataframe tbody tr th {\n",
       "        vertical-align: top;\n",
       "    }\n",
       "\n",
       "    .dataframe thead th {\n",
       "        text-align: right;\n",
       "    }\n",
       "</style>\n",
       "<table border=\"1\" class=\"dataframe\">\n",
       "  <thead>\n",
       "    <tr style=\"text-align: right;\">\n",
       "      <th></th>\n",
       "      <th>video_id</th>\n",
       "      <th>title</th>\n",
       "      <th>url</th>\n",
       "      <th>page_content</th>\n",
       "    </tr>\n",
       "  </thead>\n",
       "  <tbody>\n",
       "    <tr>\n",
       "      <th>0</th>\n",
       "      <td>yYsDLBAp6LM</td>\n",
       "      <td>Emergency Evacuation Planning</td>\n",
       "      <td>https://www.youtube.com/watch?v=yYsDLBAp6LM</td>\n",
       "      <td>in case of emergency, personnel and the local ...</td>\n",
       "    </tr>\n",
       "    <tr>\n",
       "      <th>1</th>\n",
       "      <td>yYsDLBAp6LM</td>\n",
       "      <td>Emergency Evacuation Planning</td>\n",
       "      <td>https://www.youtube.com/watch?v=yYsDLBAp6LM</td>\n",
       "      <td>we are using the latest location technology to...</td>\n",
       "    </tr>\n",
       "    <tr>\n",
       "      <th>2</th>\n",
       "      <td>aicxqzb3DJ4</td>\n",
       "      <td>Emergency Evacuations: Planning for the Whole ...</td>\n",
       "      <td>https://www.youtube.com/watch?v=aicxqzb3DJ4</td>\n",
       "      <td>- [Paul]. Hello everyone and thank you for joi...</td>\n",
       "    </tr>\n",
       "    <tr>\n",
       "      <th>3</th>\n",
       "      <td>aicxqzb3DJ4</td>\n",
       "      <td>Emergency Evacuations: Planning for the Whole ...</td>\n",
       "      <td>https://www.youtube.com/watch?v=aicxqzb3DJ4</td>\n",
       "      <td>Madeline over to you. - [Madeline]. Thank you,...</td>\n",
       "    </tr>\n",
       "    <tr>\n",
       "      <th>4</th>\n",
       "      <td>aicxqzb3DJ4</td>\n",
       "      <td>Emergency Evacuations: Planning for the Whole ...</td>\n",
       "      <td>https://www.youtube.com/watch?v=aicxqzb3DJ4</td>\n",
       "      <td>So in the remainder of this first presentation...</td>\n",
       "    </tr>\n",
       "    <tr>\n",
       "      <th>...</th>\n",
       "      <td>...</td>\n",
       "      <td>...</td>\n",
       "      <td>...</td>\n",
       "      <td>...</td>\n",
       "    </tr>\n",
       "    <tr>\n",
       "      <th>8848</th>\n",
       "      <td>HpcFczHymBE</td>\n",
       "      <td>Disaster, Conflict, and Impact Assessment  Mak...</td>\n",
       "      <td>https://www.youtube.com/watch?v=HpcFczHymBE</td>\n",
       "      <td>I think the first point could be debated. I've...</td>\n",
       "    </tr>\n",
       "    <tr>\n",
       "      <th>8849</th>\n",
       "      <td>HpcFczHymBE</td>\n",
       "      <td>Disaster, Conflict, and Impact Assessment  Mak...</td>\n",
       "      <td>https://www.youtube.com/watch?v=HpcFczHymBE</td>\n",
       "      <td>they're engaged in one side or the other of th...</td>\n",
       "    </tr>\n",
       "    <tr>\n",
       "      <th>8850</th>\n",
       "      <td>HpcFczHymBE</td>\n",
       "      <td>Disaster, Conflict, and Impact Assessment  Mak...</td>\n",
       "      <td>https://www.youtube.com/watch?v=HpcFczHymBE</td>\n",
       "      <td>and if so, what advice would you have for this...</td>\n",
       "    </tr>\n",
       "    <tr>\n",
       "      <th>8851</th>\n",
       "      <td>HpcFczHymBE</td>\n",
       "      <td>Disaster, Conflict, and Impact Assessment  Mak...</td>\n",
       "      <td>https://www.youtube.com/watch?v=HpcFczHymBE</td>\n",
       "      <td>you want to reduce risk, make it safer than be...</td>\n",
       "    </tr>\n",
       "    <tr>\n",
       "      <th>8852</th>\n",
       "      <td>HpcFczHymBE</td>\n",
       "      <td>Disaster, Conflict, and Impact Assessment  Mak...</td>\n",
       "      <td>https://www.youtube.com/watch?v=HpcFczHymBE</td>\n",
       "      <td>etc. I think that to a certain degree, the bas...</td>\n",
       "    </tr>\n",
       "  </tbody>\n",
       "</table>\n",
       "<p>8853 rows × 4 columns</p>\n",
       "</div>"
      ],
      "text/plain": [
       "         video_id                                              title  \\\n",
       "0     yYsDLBAp6LM                      Emergency Evacuation Planning   \n",
       "1     yYsDLBAp6LM                      Emergency Evacuation Planning   \n",
       "2     aicxqzb3DJ4  Emergency Evacuations: Planning for the Whole ...   \n",
       "3     aicxqzb3DJ4  Emergency Evacuations: Planning for the Whole ...   \n",
       "4     aicxqzb3DJ4  Emergency Evacuations: Planning for the Whole ...   \n",
       "...           ...                                                ...   \n",
       "8848  HpcFczHymBE  Disaster, Conflict, and Impact Assessment  Mak...   \n",
       "8849  HpcFczHymBE  Disaster, Conflict, and Impact Assessment  Mak...   \n",
       "8850  HpcFczHymBE  Disaster, Conflict, and Impact Assessment  Mak...   \n",
       "8851  HpcFczHymBE  Disaster, Conflict, and Impact Assessment  Mak...   \n",
       "8852  HpcFczHymBE  Disaster, Conflict, and Impact Assessment  Mak...   \n",
       "\n",
       "                                              url  \\\n",
       "0     https://www.youtube.com/watch?v=yYsDLBAp6LM   \n",
       "1     https://www.youtube.com/watch?v=yYsDLBAp6LM   \n",
       "2     https://www.youtube.com/watch?v=aicxqzb3DJ4   \n",
       "3     https://www.youtube.com/watch?v=aicxqzb3DJ4   \n",
       "4     https://www.youtube.com/watch?v=aicxqzb3DJ4   \n",
       "...                                           ...   \n",
       "8848  https://www.youtube.com/watch?v=HpcFczHymBE   \n",
       "8849  https://www.youtube.com/watch?v=HpcFczHymBE   \n",
       "8850  https://www.youtube.com/watch?v=HpcFczHymBE   \n",
       "8851  https://www.youtube.com/watch?v=HpcFczHymBE   \n",
       "8852  https://www.youtube.com/watch?v=HpcFczHymBE   \n",
       "\n",
       "                                           page_content  \n",
       "0     in case of emergency, personnel and the local ...  \n",
       "1     we are using the latest location technology to...  \n",
       "2     - [Paul]. Hello everyone and thank you for joi...  \n",
       "3     Madeline over to you. - [Madeline]. Thank you,...  \n",
       "4     So in the remainder of this first presentation...  \n",
       "...                                                 ...  \n",
       "8848  I think the first point could be debated. I've...  \n",
       "8849  they're engaged in one side or the other of th...  \n",
       "8850  and if so, what advice would you have for this...  \n",
       "8851  you want to reduce risk, make it safer than be...  \n",
       "8852  etc. I think that to a certain degree, the bas...  \n",
       "\n",
       "[8853 rows x 4 columns]"
      ]
     },
     "execution_count": 3,
     "metadata": {},
     "output_type": "execute_result"
    }
   ],
   "source": [
    "data = [{**doc.metadata, 'page_content': doc.page_content} for doc in chunks]\n",
    "docs_df = pd.DataFrame(data)\n",
    "docs_df.to_csv(os.path.join(BASE_DATA_PATH, \"yt_chunks_llama3.3-70b-hse.csv\"), index=False)\n",
    "docs_df"
   ]
  },
  {
   "cell_type": "markdown",
   "metadata": {},
   "source": [
    "### Creating the Vector Database"
   ]
  },
  {
   "cell_type": "code",
   "execution_count": 2,
   "metadata": {},
   "outputs": [
    {
     "name": "stderr",
     "output_type": "stream",
     "text": [
      "Special tokens have been added in the vocabulary, make sure the associated word embeddings are fine-tuned or trained.\n"
     ]
    },
    {
     "data": {
      "application/vnd.jupyter.widget-view+json": {
       "model_id": "5a90c72bf5184ebaba60bd93035a302d",
       "version_major": 2,
       "version_minor": 0
      },
      "text/plain": [
       "  0%|          | 0/6188 [00:00<?, ?it/s]"
      ]
     },
     "metadata": {},
     "output_type": "display_data"
    }
   ],
   "source": [
    "df = pd.read_csv(os.path.join(BASE_DATA_PATH, \"yt_chunks_llama3.3-70b-dem.csv\"))\n",
    "# df2 = pd.read_csv(os.path.join(BASE_DATA_PATH, \"yt_chunks_qwen2.5-32b-hse.csv\"))\n",
    "\n",
    "# Concat two dataframes\n",
    "# df = pd.concat([df1, df2])\n",
    "\n",
    "\n",
    "lengths = count_tokens(df)\n",
    "df['token_length'] = lengths\n",
    "df = df[df['token_length'] >= 100]"
   ]
  },
  {
   "cell_type": "code",
   "execution_count": null,
   "metadata": {},
   "outputs": [],
   "source": [
    "DB = VectorDB(model=\"qwen2.5:32b\", dataframe=df)\n",
    "documents = DB.get_documents()\n",
    "DB.create_vectordb(documents=documents)"
   ]
  },
  {
   "cell_type": "markdown",
   "metadata": {},
   "source": [
    "Create a vector database snapshot"
   ]
  },
  {
   "cell_type": "code",
   "execution_count": 4,
   "metadata": {},
   "outputs": [
    {
     "name": "stdout",
     "output_type": "stream",
     "text": [
      "[Document(metadata={'video_id': 'pGJliOHx1cc', 'title': 'Intelligence-enabled work health and safety, Maureen Hassall', 'url': 'https://www.youtube.com/watch?v=pGJliOHx1cc', '_id': 'fb28ec60-7414-4366-acf8-6f26ad6d420b', '_collection_name': 'youtube_collection'}, page_content=\"- Well, it's actually happening with the guy in the field. - [Chris], Yeah - So, wearing some of the tech, or with the cameras, with the mobile devices, they are filming and talking, They are looking at situations in the field, or they're looking at a piece of equipment, for example, in the field, And they're beaming the vision and having the conversation back to the manufacturer, which could be anywhere in the world, or back to the, say, the expert engineers who are sitting in a corporate office somewhere because they can't fly it in the moment. That's happening now?\"),\n",
      " Document(metadata={'video_id': 'pfAjb2gCvJs', 'title': 'Safety Management System', 'url': 'https://www.youtube.com/watch?v=pfAjb2gCvJs', '_id': 'fcb44a38-266f-49bd-a6b5-402ded042b80', '_collection_name': 'youtube_collection'}, page_content='An emergency response plan (ERP) is an integral component of a organisation’s safety process to address aviation related emergencies, crises or events. How can the babysitter know lots of things about the baby’s safety? Caring for young children is not easy. When the parents leave, the babysitter is responsible for keeping that child safe, fed and entertained. If there has been no prior formal training or education, how can these babysitting skills be improved? By reading books on the subject, Through online research and reading articles on the internet? In aviation, we can call this resource of information “documentation”.'),\n",
      " Document(metadata={'video_id': 'iTZ2N-HJbwA', 'title': 'How a Brain Implant and AI Gave a Woman with Paralysis Her Voice Back', 'url': 'https://www.youtube.com/watch?v=iTZ2N-HJbwA', '_id': '53027b73-08c3-43e9-af7a-b72a88958ce1', '_collection_name': 'youtube_collection'}, page_content=\"[Ann] What time will you be home? [Bill] In about an hour. [Ann], Do not make me laugh. [Bill] That's the first time we've ever had a conversation using this system. [Margaret] In order to communicate in her day-to-day life, she has an assistive communication device. These are dollar store glasses And she interfaces with it using a little reflective sticker on them. It's very slow and the device now is very old, but she relies on it. [Bill] For us to have that conversation using her Dynavox would probably be like a 5-to-7-minute conversation. [Ann] It was nice to have a conversation. I forget how slow this machine is. [Margaret] When Ann was 30 years old, she was playing volleyball with some friends and had a stroke which led to the condition that she has now, which is locked-in syndrome. At this point she had a 6-month-old child and a 7-year-old child. [Ann] You are truly wonderful people. [Margaret] The physicians have no idea why this happened. That was now 18 years ago. How can we create technology that can help people really meaningfully contribute with all sorts of abilities? [Ann] Hi, How are things going?\"),\n",
      " Document(metadata={'video_id': '1uMbRimBAO8', 'title': 'Improving construction worker safety with wearable sensors', 'url': 'https://www.youtube.com/watch?v=1uMbRimBAO8', '_id': 'd5fa5e34-7f44-4421-8747-e693164d1ac5', '_collection_name': 'youtube_collection'}, page_content=\"Narrator. Professor of Civil and Environmental Engineering Sanghyun Lee and his team of University of Michigan researchers are placing inexpensive wearable sensors on construction workers to measure anxiety, fatigue and heat stress while on the job. >> Gaang Lee. I worked at construction company for five years. Our research can help them to be safe. [construction site sounds]. Per day we will check their perceived heat stress and perceived fatigue four times. >> Narrator. The sensors will read body movement, temperature and electrodermal responses, while saliva samples verify some of the incoming data. The goal is to use the sensors to establish a model that will help predict when workers will become dehydrated, anxious or when accidental falls are most likely to occur. >> Harris. We're seeing that some of the guys are staying in the field longer. You know they're wearing their bodies out, given the type of work that they do and as we move along through this project, I wouldn't be surprised, five, ten years down the road, that some of the research that these guys are doing here today has changes in the way that we do things in the field in the future. [music].\")]\n"
     ]
    }
   ],
   "source": [
    "vector_store = QdrantVectorStore.from_existing_collection(\n",
    "    embedding=OllamaEmbeddings(model=\"qwen2.5:32b\"),\n",
    "    collection_name=\"youtube_collection\",\n",
    "    url=\"http://localhost:6333\",\n",
    "    retrieval_mode=RetrievalMode.DENSE,\n",
    ")\n",
    "\n",
    "retriever = vector_store.as_retriever()\n",
    "result = retriever.invoke(\"What are the trending AI technologies in Disaster Management?\")\n",
    "pprint(result)"
   ]
  },
  {
   "cell_type": "markdown",
   "metadata": {},
   "source": [
    "### Topic Modeling"
   ]
  },
  {
   "cell_type": "code",
   "execution_count": 2,
   "metadata": {},
   "outputs": [
    {
     "data": {
      "application/vnd.jupyter.widget-view+json": {
       "model_id": "629487aad1ad4980941930903a42215e",
       "version_major": 2,
       "version_minor": 0
      },
      "text/plain": [
       "  0%|          | 0/6188 [00:00<?, ?it/s]"
      ]
     },
     "metadata": {},
     "output_type": "display_data"
    },
    {
     "data": {
      "application/vnd.jupyter.widget-view+json": {
       "model_id": "f10768079a2844dcb32cf8a2b1dff8db",
       "version_major": 2,
       "version_minor": 0
      },
      "text/plain": [
       "  0%|          | 0/8853 [00:00<?, ?it/s]"
      ]
     },
     "metadata": {},
     "output_type": "display_data"
    }
   ],
   "source": [
    "df_dem = pd.read_csv(\"data/yt_chunks_llama3.3-70b-dem.csv\")\n",
    "df_hse = pd.read_csv(\"data/yt_chunks_llama3.3-70b-hse.csv\")\n",
    "\n",
    "df_dem['token_length'] = count_tokens(df_dem)\n",
    "df_dem = df_dem[df_dem['token_length'] >= 100]\n",
    "\n",
    "df_hse['token_length'] = count_tokens(df_hse)\n",
    "df_hse = df_hse[df_hse['token_length'] >= 100]\n",
    "\n",
    "paragraphs_dem = df_dem['page_content'].tolist()\n",
    "paragraphs_hse = df_hse['page_content'].tolist()"
   ]
  },
  {
   "cell_type": "code",
   "execution_count": 3,
   "metadata": {},
   "outputs": [
    {
     "data": {
      "application/vnd.jupyter.widget-view+json": {
       "model_id": "dc3a8dc91a5a4db39fc088f3e4a76e79",
       "version_major": 2,
       "version_minor": 0
      },
      "text/plain": [
       "Loading checkpoint shards:   0%|          | 0/4 [00:00<?, ?it/s]"
      ]
     },
     "metadata": {},
     "output_type": "display_data"
    },
    {
     "name": "stderr",
     "output_type": "stream",
     "text": [
      "Device set to use cuda:0\n"
     ]
    },
    {
     "data": {
      "application/vnd.jupyter.widget-view+json": {
       "model_id": "f6aaebbf64b74949bf7417485838409a",
       "version_major": 2,
       "version_minor": 0
      },
      "text/plain": [
       "Chunks:   0%|          | 0/40 [00:00<?, ?it/s]"
      ]
     },
     "metadata": {},
     "output_type": "display_data"
    },
    {
     "name": "stderr",
     "output_type": "stream",
     "text": [
      "2024-12-30 14:11:39,429 - BERTopic - Dimensionality - Fitting the dimensionality reduction algorithm\n",
      "/home/lab1/.cache/pypoetry/virtualenvs/adersim-app-2-analyse-14fX-SLK-py3.9/lib/python3.9/site-packages/numba/np/ufunc/parallel.py:371: NumbaWarning: The TBB threading layer requires TBB version 2021 update 6 or later i.e., TBB_INTERFACE_VERSION >= 12060. Found TBB_INTERFACE_VERSION = 12050. The TBB threading layer is disabled.\n",
      "  warnings.warn(problem)\n",
      "2024-12-30 14:12:05,579 - BERTopic - Dimensionality - Completed ✓\n",
      "2024-12-30 14:12:05,580 - BERTopic - Cluster - Start clustering the reduced embeddings\n",
      "2024-12-30 14:12:05,783 - BERTopic - Cluster - Completed ✓\n",
      "2024-12-30 14:12:05,786 - BERTopic - Representation - Extracting topics from clusters using representation models.\n",
      "  0%|          | 0/3 [00:00<?, ?it/s]Setting `pad_token_id` to `eos_token_id`:128001 for open-end generation.\n",
      " 33%|███▎      | 1/3 [01:23<02:47, 83.85s/it]Setting `pad_token_id` to `eos_token_id`:128001 for open-end generation.\n",
      " 67%|██████▋   | 2/3 [03:08<01:36, 96.08s/it]Setting `pad_token_id` to `eos_token_id`:128001 for open-end generation.\n",
      "100%|██████████| 3/3 [04:34<00:00, 91.60s/it]\n",
      "2024-12-30 14:16:49,869 - BERTopic - Representation - Completed ✓\n",
      "2024-12-30 14:16:50,127 - BERTopic - WARNING: You are saving a BERTopic model without explicitly defining an embedding model.If you are using a sentence-transformers model or a HuggingFace model supportedby sentence-transformers, please save the model by using a pointer towards that model.For example, `save_embedding_model='sentence-transformers/all-mpnet-base-v2'`\n"
     ]
    },
    {
     "name": "stdout",
     "output_type": "stream",
     "text": [
      "Model saved successfully.\n"
     ]
    },
    {
     "data": {
      "application/vnd.jupyter.widget-view+json": {
       "model_id": "da934ff2f5c2434ea9b978ffec0ff478",
       "version_major": 2,
       "version_minor": 0
      },
      "text/plain": [
       "Chunks:   0%|          | 0/40 [00:00<?, ?it/s]"
      ]
     },
     "metadata": {},
     "output_type": "display_data"
    },
    {
     "name": "stderr",
     "output_type": "stream",
     "text": [
      "2024-12-30 14:17:26,508 - BERTopic - Dimensionality - Fitting the dimensionality reduction algorithm\n",
      "2024-12-30 14:17:43,091 - BERTopic - Dimensionality - Completed ✓\n",
      "2024-12-30 14:17:43,092 - BERTopic - Zeroshot Step 1 - Finding documents that could be assigned to either one of the zero-shot topics\n",
      "2024-12-30 14:17:43,355 - BERTopic - Zeroshot Step 1 - Completed ✓\n",
      "2024-12-30 14:17:43,378 - BERTopic - Cluster - Start clustering the reduced embeddings\n",
      "2024-12-30 14:17:43,485 - BERTopic - Cluster - Completed ✓\n",
      "2024-12-30 14:17:43,488 - BERTopic - Representation - Extracting topics from clusters using representation models.\n",
      "  0%|          | 0/79 [00:00<?, ?it/s]Setting `pad_token_id` to `eos_token_id`:128001 for open-end generation.\n",
      "  1%|▏         | 1/79 [01:36<2:05:58, 96.90s/it]Setting `pad_token_id` to `eos_token_id`:128001 for open-end generation.\n",
      "  3%|▎         | 2/79 [02:52<1:48:33, 84.59s/it]Setting `pad_token_id` to `eos_token_id`:128001 for open-end generation.\n",
      "  4%|▍         | 3/79 [03:31<1:20:20, 63.43s/it]Setting `pad_token_id` to `eos_token_id`:128001 for open-end generation.\n",
      "  5%|▌         | 4/79 [04:48<1:26:14, 68.99s/it]Setting `pad_token_id` to `eos_token_id`:128001 for open-end generation.\n",
      "  6%|▋         | 5/79 [05:54<1:23:34, 67.76s/it]Setting `pad_token_id` to `eos_token_id`:128001 for open-end generation.\n",
      "  8%|▊         | 6/79 [07:00<1:21:41, 67.15s/it]Setting `pad_token_id` to `eos_token_id`:128001 for open-end generation.\n",
      "  9%|▉         | 7/79 [08:15<1:23:39, 69.72s/it]You seem to be using the pipelines sequentially on GPU. In order to maximize efficiency please use a dataset\n",
      "Setting `pad_token_id` to `eos_token_id`:128001 for open-end generation.\n",
      " 10%|█         | 8/79 [09:49<1:31:53, 77.65s/it]Setting `pad_token_id` to `eos_token_id`:128001 for open-end generation.\n",
      " 11%|█▏        | 9/79 [11:02<1:28:46, 76.10s/it]Setting `pad_token_id` to `eos_token_id`:128001 for open-end generation.\n",
      " 13%|█▎        | 10/79 [12:28<1:30:54, 79.05s/it]Setting `pad_token_id` to `eos_token_id`:128001 for open-end generation.\n",
      " 14%|█▍        | 11/79 [13:28<1:23:00, 73.25s/it]Setting `pad_token_id` to `eos_token_id`:128001 for open-end generation.\n",
      " 15%|█▌        | 12/79 [14:27<1:16:59, 68.95s/it]Setting `pad_token_id` to `eos_token_id`:128001 for open-end generation.\n",
      " 16%|█▋        | 13/79 [15:58<1:23:15, 75.69s/it]Setting `pad_token_id` to `eos_token_id`:128001 for open-end generation.\n",
      " 18%|█▊        | 14/79 [16:52<1:14:53, 69.14s/it]Setting `pad_token_id` to `eos_token_id`:128001 for open-end generation.\n",
      " 19%|█▉        | 15/79 [18:09<1:16:16, 71.51s/it]Setting `pad_token_id` to `eos_token_id`:128001 for open-end generation.\n",
      " 20%|██        | 16/79 [19:29<1:17:49, 74.12s/it]Setting `pad_token_id` to `eos_token_id`:128001 for open-end generation.\n",
      " 22%|██▏       | 17/79 [20:50<1:18:43, 76.19s/it]Setting `pad_token_id` to `eos_token_id`:128001 for open-end generation.\n",
      " 23%|██▎       | 18/79 [22:03<1:16:17, 75.04s/it]Setting `pad_token_id` to `eos_token_id`:128001 for open-end generation.\n",
      " 24%|██▍       | 19/79 [22:59<1:09:19, 69.33s/it]Setting `pad_token_id` to `eos_token_id`:128001 for open-end generation.\n",
      " 25%|██▌       | 20/79 [23:54<1:04:01, 65.11s/it]Setting `pad_token_id` to `eos_token_id`:128001 for open-end generation.\n",
      " 27%|██▋       | 21/79 [24:49<1:00:08, 62.21s/it]Setting `pad_token_id` to `eos_token_id`:128001 for open-end generation.\n",
      " 28%|██▊       | 22/79 [25:49<58:25, 61.50s/it]  Setting `pad_token_id` to `eos_token_id`:128001 for open-end generation.\n",
      " 29%|██▉       | 23/79 [27:01<1:00:14, 64.54s/it]Setting `pad_token_id` to `eos_token_id`:128001 for open-end generation.\n",
      " 30%|███       | 24/79 [28:02<58:19, 63.63s/it]  Setting `pad_token_id` to `eos_token_id`:128001 for open-end generation.\n",
      " 32%|███▏      | 25/79 [29:03<56:22, 62.64s/it]Setting `pad_token_id` to `eos_token_id`:128001 for open-end generation.\n",
      " 33%|███▎      | 26/79 [30:09<56:19, 63.77s/it]Setting `pad_token_id` to `eos_token_id`:128001 for open-end generation.\n",
      " 34%|███▍      | 27/79 [31:24<58:07, 67.07s/it]Setting `pad_token_id` to `eos_token_id`:128001 for open-end generation.\n",
      " 35%|███▌      | 28/79 [32:34<57:48, 68.00s/it]Setting `pad_token_id` to `eos_token_id`:128001 for open-end generation.\n",
      " 37%|███▋      | 29/79 [33:19<50:50, 61.01s/it]Setting `pad_token_id` to `eos_token_id`:128001 for open-end generation.\n",
      " 38%|███▊      | 30/79 [34:20<49:47, 60.97s/it]Setting `pad_token_id` to `eos_token_id`:128001 for open-end generation.\n",
      " 39%|███▉      | 31/79 [35:24<49:33, 61.95s/it]Setting `pad_token_id` to `eos_token_id`:128001 for open-end generation.\n",
      " 41%|████      | 32/79 [36:18<46:43, 59.66s/it]Setting `pad_token_id` to `eos_token_id`:128001 for open-end generation.\n",
      " 42%|████▏     | 33/79 [37:03<42:25, 55.34s/it]Setting `pad_token_id` to `eos_token_id`:128001 for open-end generation.\n",
      " 43%|████▎     | 34/79 [38:09<43:43, 58.31s/it]Setting `pad_token_id` to `eos_token_id`:128001 for open-end generation.\n",
      " 44%|████▍     | 35/79 [39:06<42:33, 58.03s/it]Setting `pad_token_id` to `eos_token_id`:128001 for open-end generation.\n",
      " 46%|████▌     | 36/79 [40:07<42:10, 58.85s/it]Setting `pad_token_id` to `eos_token_id`:128001 for open-end generation.\n",
      " 47%|████▋     | 37/79 [40:57<39:21, 56.24s/it]Setting `pad_token_id` to `eos_token_id`:128001 for open-end generation.\n",
      " 48%|████▊     | 38/79 [41:46<37:01, 54.18s/it]Setting `pad_token_id` to `eos_token_id`:128001 for open-end generation.\n",
      " 49%|████▉     | 39/79 [42:27<33:22, 50.06s/it]Setting `pad_token_id` to `eos_token_id`:128001 for open-end generation.\n",
      " 51%|█████     | 40/79 [43:00<29:15, 45.03s/it]Setting `pad_token_id` to `eos_token_id`:128001 for open-end generation.\n",
      " 52%|█████▏    | 41/79 [44:09<33:06, 52.27s/it]Setting `pad_token_id` to `eos_token_id`:128001 for open-end generation.\n",
      " 53%|█████▎    | 42/79 [45:17<35:10, 57.03s/it]Setting `pad_token_id` to `eos_token_id`:128001 for open-end generation.\n",
      " 54%|█████▍    | 43/79 [46:47<40:05, 66.81s/it]Setting `pad_token_id` to `eos_token_id`:128001 for open-end generation.\n",
      " 56%|█████▌    | 44/79 [47:33<35:23, 60.68s/it]Setting `pad_token_id` to `eos_token_id`:128001 for open-end generation.\n",
      " 57%|█████▋    | 45/79 [48:31<33:48, 59.67s/it]Setting `pad_token_id` to `eos_token_id`:128001 for open-end generation.\n",
      " 58%|█████▊    | 46/79 [49:36<33:47, 61.45s/it]Setting `pad_token_id` to `eos_token_id`:128001 for open-end generation.\n",
      " 59%|█████▉    | 47/79 [50:26<30:56, 58.01s/it]Setting `pad_token_id` to `eos_token_id`:128001 for open-end generation.\n",
      " 61%|██████    | 48/79 [51:41<32:38, 63.16s/it]Setting `pad_token_id` to `eos_token_id`:128001 for open-end generation.\n",
      " 62%|██████▏   | 49/79 [52:22<28:07, 56.25s/it]Setting `pad_token_id` to `eos_token_id`:128001 for open-end generation.\n",
      " 63%|██████▎   | 50/79 [53:24<28:07, 58.18s/it]Setting `pad_token_id` to `eos_token_id`:128001 for open-end generation.\n",
      " 65%|██████▍   | 51/79 [54:18<26:31, 56.83s/it]Setting `pad_token_id` to `eos_token_id`:128001 for open-end generation.\n",
      " 66%|██████▌   | 52/79 [55:19<26:10, 58.18s/it]Setting `pad_token_id` to `eos_token_id`:128001 for open-end generation.\n",
      " 67%|██████▋   | 53/79 [56:10<24:17, 56.08s/it]Setting `pad_token_id` to `eos_token_id`:128001 for open-end generation.\n",
      " 68%|██████▊   | 54/79 [57:00<22:33, 54.16s/it]Setting `pad_token_id` to `eos_token_id`:128001 for open-end generation.\n",
      " 70%|██████▉   | 55/79 [58:01<22:29, 56.22s/it]Setting `pad_token_id` to `eos_token_id`:128001 for open-end generation.\n",
      " 71%|███████   | 56/79 [58:35<18:59, 49.55s/it]Setting `pad_token_id` to `eos_token_id`:128001 for open-end generation.\n",
      " 72%|███████▏  | 57/79 [59:43<20:09, 54.98s/it]Setting `pad_token_id` to `eos_token_id`:128001 for open-end generation.\n",
      " 73%|███████▎  | 58/79 [1:00:38<19:16, 55.06s/it]Setting `pad_token_id` to `eos_token_id`:128001 for open-end generation.\n",
      " 75%|███████▍  | 59/79 [1:01:39<18:56, 56.81s/it]Setting `pad_token_id` to `eos_token_id`:128001 for open-end generation.\n",
      " 76%|███████▌  | 60/79 [1:02:14<15:57, 50.38s/it]Setting `pad_token_id` to `eos_token_id`:128001 for open-end generation.\n",
      " 77%|███████▋  | 61/79 [1:02:50<13:49, 46.10s/it]Setting `pad_token_id` to `eos_token_id`:128001 for open-end generation.\n",
      " 78%|███████▊  | 62/79 [1:03:46<13:49, 48.81s/it]Setting `pad_token_id` to `eos_token_id`:128001 for open-end generation.\n",
      " 80%|███████▉  | 63/79 [1:04:36<13:07, 49.20s/it]Setting `pad_token_id` to `eos_token_id`:128001 for open-end generation.\n",
      " 81%|████████  | 64/79 [1:06:01<15:02, 60.15s/it]Setting `pad_token_id` to `eos_token_id`:128001 for open-end generation.\n",
      " 82%|████████▏ | 65/79 [1:07:06<14:19, 61.41s/it]Setting `pad_token_id` to `eos_token_id`:128001 for open-end generation.\n",
      " 84%|████████▎ | 66/79 [1:08:09<13:25, 61.93s/it]Setting `pad_token_id` to `eos_token_id`:128001 for open-end generation.\n",
      " 85%|████████▍ | 67/79 [1:09:08<12:13, 61.09s/it]Setting `pad_token_id` to `eos_token_id`:128001 for open-end generation.\n",
      " 86%|████████▌ | 68/79 [1:09:47<10:00, 54.61s/it]Setting `pad_token_id` to `eos_token_id`:128001 for open-end generation.\n",
      " 87%|████████▋ | 69/79 [1:10:49<09:27, 56.75s/it]Setting `pad_token_id` to `eos_token_id`:128001 for open-end generation.\n",
      " 89%|████████▊ | 70/79 [1:11:46<08:30, 56.72s/it]Setting `pad_token_id` to `eos_token_id`:128001 for open-end generation.\n",
      " 90%|████████▉ | 71/79 [1:12:48<07:46, 58.37s/it]Setting `pad_token_id` to `eos_token_id`:128001 for open-end generation.\n",
      " 91%|█████████ | 72/79 [1:13:40<06:34, 56.43s/it]Setting `pad_token_id` to `eos_token_id`:128001 for open-end generation.\n",
      " 92%|█████████▏| 73/79 [1:14:38<05:41, 56.99s/it]Setting `pad_token_id` to `eos_token_id`:128001 for open-end generation.\n",
      " 94%|█████████▎| 74/79 [1:15:50<05:07, 61.41s/it]Setting `pad_token_id` to `eos_token_id`:128001 for open-end generation.\n",
      " 95%|█████████▍| 75/79 [1:16:46<03:59, 59.91s/it]Setting `pad_token_id` to `eos_token_id`:128001 for open-end generation.\n",
      " 96%|█████████▌| 76/79 [1:17:38<02:52, 57.56s/it]Setting `pad_token_id` to `eos_token_id`:128001 for open-end generation.\n",
      " 97%|█████████▋| 77/79 [1:18:34<01:53, 56.84s/it]Setting `pad_token_id` to `eos_token_id`:128001 for open-end generation.\n",
      " 99%|█████████▊| 78/79 [1:19:29<00:56, 56.53s/it]Setting `pad_token_id` to `eos_token_id`:128001 for open-end generation.\n",
      "100%|██████████| 79/79 [1:20:12<00:00, 60.92s/it]\n",
      "2024-12-30 15:40:42,526 - BERTopic - Representation - Completed ✓\n",
      "2024-12-30 15:40:43,254 - BERTopic - WARNING: You are saving a BERTopic model without explicitly defining an embedding model.If you are using a sentence-transformers model or a HuggingFace model supportedby sentence-transformers, please save the model by using a pointer towards that model.For example, `save_embedding_model='sentence-transformers/all-mpnet-base-v2'`\n"
     ]
    },
    {
     "name": "stdout",
     "output_type": "stream",
     "text": [
      "Model saved successfully.\n"
     ]
    },
    {
     "data": {
      "application/vnd.jupyter.widget-view+json": {
       "model_id": "654600cdaec64ae480d61de9622727d1",
       "version_major": 2,
       "version_minor": 0
      },
      "text/plain": [
       "Chunks:   0%|          | 0/40 [00:00<?, ?it/s]"
      ]
     },
     "metadata": {},
     "output_type": "display_data"
    },
    {
     "name": "stderr",
     "output_type": "stream",
     "text": [
      "2024-12-30 15:41:31,906 - BERTopic - Dimensionality - Fitting the dimensionality reduction algorithm\n",
      "2024-12-30 15:41:52,651 - BERTopic - Dimensionality - Completed ✓\n",
      "2024-12-30 15:41:52,653 - BERTopic - Cluster - Start clustering the reduced embeddings\n",
      "2024-12-30 15:41:52,960 - BERTopic - Cluster - Completed ✓\n",
      "2024-12-30 15:41:52,963 - BERTopic - Representation - Extracting topics from clusters using representation models.\n",
      "  0%|          | 0/3 [00:00<?, ?it/s]Setting `pad_token_id` to `eos_token_id`:128001 for open-end generation.\n",
      " 33%|███▎      | 1/3 [01:10<02:21, 70.70s/it]Setting `pad_token_id` to `eos_token_id`:128001 for open-end generation.\n",
      " 67%|██████▋   | 2/3 [02:17<01:08, 68.62s/it]Setting `pad_token_id` to `eos_token_id`:128001 for open-end generation.\n",
      "100%|██████████| 3/3 [03:36<00:00, 72.32s/it]\n",
      "2024-12-30 15:45:38,283 - BERTopic - Representation - Completed ✓\n",
      "2024-12-30 15:45:38,507 - BERTopic - WARNING: You are saving a BERTopic model without explicitly defining an embedding model.If you are using a sentence-transformers model or a HuggingFace model supportedby sentence-transformers, please save the model by using a pointer towards that model.For example, `save_embedding_model='sentence-transformers/all-mpnet-base-v2'`\n"
     ]
    },
    {
     "name": "stdout",
     "output_type": "stream",
     "text": [
      "Model saved successfully.\n"
     ]
    },
    {
     "data": {
      "application/vnd.jupyter.widget-view+json": {
       "model_id": "bf27b2414f234ecd87d736c4bf3b785b",
       "version_major": 2,
       "version_minor": 0
      },
      "text/plain": [
       "Chunks:   0%|          | 0/40 [00:00<?, ?it/s]"
      ]
     },
     "metadata": {},
     "output_type": "display_data"
    },
    {
     "name": "stderr",
     "output_type": "stream",
     "text": [
      "2024-12-30 15:46:27,025 - BERTopic - Dimensionality - Fitting the dimensionality reduction algorithm\n",
      "2024-12-30 15:46:28,457 - BERTopic - Dimensionality - Completed ✓\n",
      "2024-12-30 15:46:28,459 - BERTopic - Zeroshot Step 1 - Finding documents that could be assigned to either one of the zero-shot topics\n",
      "2024-12-30 15:46:28,728 - BERTopic - Zeroshot Step 1 - Completed ✓\n",
      "2024-12-30 15:46:28,764 - BERTopic - Cluster - Start clustering the reduced embeddings\n",
      "2024-12-30 15:46:28,903 - BERTopic - Cluster - Completed ✓\n",
      "2024-12-30 15:46:28,907 - BERTopic - Representation - Extracting topics from clusters using representation models.\n",
      "  0%|          | 0/108 [00:00<?, ?it/s]Setting `pad_token_id` to `eos_token_id`:128001 for open-end generation.\n",
      "  1%|          | 1/108 [01:14<2:13:35, 74.91s/it]Setting `pad_token_id` to `eos_token_id`:128001 for open-end generation.\n",
      "  2%|▏         | 2/108 [02:27<2:10:25, 73.83s/it]Setting `pad_token_id` to `eos_token_id`:128001 for open-end generation.\n",
      "  3%|▎         | 3/108 [03:44<2:11:24, 75.09s/it]Setting `pad_token_id` to `eos_token_id`:128001 for open-end generation.\n",
      "  4%|▎         | 4/108 [05:03<2:12:51, 76.65s/it]Setting `pad_token_id` to `eos_token_id`:128001 for open-end generation.\n",
      "  5%|▍         | 5/108 [05:57<1:57:21, 68.36s/it]Setting `pad_token_id` to `eos_token_id`:128001 for open-end generation.\n",
      "  6%|▌         | 6/108 [07:17<2:02:50, 72.26s/it]Setting `pad_token_id` to `eos_token_id`:128001 for open-end generation.\n",
      "  6%|▋         | 7/108 [08:11<1:51:36, 66.30s/it]Setting `pad_token_id` to `eos_token_id`:128001 for open-end generation.\n",
      "  7%|▋         | 8/108 [09:31<1:57:58, 70.79s/it]Setting `pad_token_id` to `eos_token_id`:128001 for open-end generation.\n",
      "  8%|▊         | 9/108 [10:47<1:59:25, 72.38s/it]Setting `pad_token_id` to `eos_token_id`:128001 for open-end generation.\n",
      "  9%|▉         | 10/108 [12:02<1:59:28, 73.15s/it]Setting `pad_token_id` to `eos_token_id`:128001 for open-end generation.\n",
      " 10%|█         | 11/108 [12:49<1:45:24, 65.20s/it]Setting `pad_token_id` to `eos_token_id`:128001 for open-end generation.\n",
      " 11%|█         | 12/108 [13:58<1:46:07, 66.32s/it]Setting `pad_token_id` to `eos_token_id`:128001 for open-end generation.\n",
      " 12%|█▏        | 13/108 [15:07<1:46:20, 67.16s/it]Setting `pad_token_id` to `eos_token_id`:128001 for open-end generation.\n",
      " 13%|█▎        | 14/108 [16:06<1:41:21, 64.70s/it]Setting `pad_token_id` to `eos_token_id`:128001 for open-end generation.\n",
      " 14%|█▍        | 15/108 [16:54<1:32:18, 59.56s/it]Setting `pad_token_id` to `eos_token_id`:128001 for open-end generation.\n",
      " 15%|█▍        | 16/108 [17:59<1:33:54, 61.24s/it]Setting `pad_token_id` to `eos_token_id`:128001 for open-end generation.\n",
      " 16%|█▌        | 17/108 [18:53<1:29:34, 59.06s/it]Setting `pad_token_id` to `eos_token_id`:128001 for open-end generation.\n",
      " 17%|█▋        | 18/108 [19:53<1:29:04, 59.39s/it]Setting `pad_token_id` to `eos_token_id`:128001 for open-end generation.\n",
      " 18%|█▊        | 19/108 [21:16<1:38:42, 66.55s/it]Setting `pad_token_id` to `eos_token_id`:128001 for open-end generation.\n",
      " 19%|█▊        | 20/108 [22:24<1:38:24, 67.10s/it]Setting `pad_token_id` to `eos_token_id`:128001 for open-end generation.\n",
      " 19%|█▉        | 21/108 [23:32<1:37:27, 67.22s/it]Setting `pad_token_id` to `eos_token_id`:128001 for open-end generation.\n",
      " 20%|██        | 22/108 [24:34<1:34:11, 65.72s/it]Setting `pad_token_id` to `eos_token_id`:128001 for open-end generation.\n",
      " 21%|██▏       | 23/108 [25:42<1:34:01, 66.37s/it]Setting `pad_token_id` to `eos_token_id`:128001 for open-end generation.\n",
      " 22%|██▏       | 24/108 [26:44<1:31:14, 65.17s/it]Setting `pad_token_id` to `eos_token_id`:128001 for open-end generation.\n",
      " 23%|██▎       | 25/108 [27:54<1:32:10, 66.63s/it]Setting `pad_token_id` to `eos_token_id`:128001 for open-end generation.\n",
      " 24%|██▍       | 26/108 [28:57<1:29:14, 65.30s/it]Setting `pad_token_id` to `eos_token_id`:128001 for open-end generation.\n",
      " 25%|██▌       | 27/108 [29:32<1:16:12, 56.45s/it]Setting `pad_token_id` to `eos_token_id`:128001 for open-end generation.\n",
      " 26%|██▌       | 28/108 [30:08<1:06:52, 50.15s/it]Setting `pad_token_id` to `eos_token_id`:128001 for open-end generation.\n",
      " 27%|██▋       | 29/108 [31:18<1:13:58, 56.18s/it]Setting `pad_token_id` to `eos_token_id`:128001 for open-end generation.\n",
      " 28%|██▊       | 30/108 [31:52<1:04:14, 49.41s/it]Setting `pad_token_id` to `eos_token_id`:128001 for open-end generation.\n",
      " 29%|██▊       | 31/108 [32:36<1:01:18, 47.77s/it]Setting `pad_token_id` to `eos_token_id`:128001 for open-end generation.\n",
      " 30%|██▉       | 32/108 [33:47<1:09:21, 54.76s/it]Setting `pad_token_id` to `eos_token_id`:128001 for open-end generation.\n",
      " 31%|███       | 33/108 [34:57<1:14:05, 59.28s/it]Setting `pad_token_id` to `eos_token_id`:128001 for open-end generation.\n",
      " 31%|███▏      | 34/108 [35:57<1:13:20, 59.47s/it]Setting `pad_token_id` to `eos_token_id`:128001 for open-end generation.\n",
      " 32%|███▏      | 35/108 [37:01<1:14:00, 60.83s/it]Setting `pad_token_id` to `eos_token_id`:128001 for open-end generation.\n",
      " 33%|███▎      | 36/108 [37:48<1:08:05, 56.74s/it]Setting `pad_token_id` to `eos_token_id`:128001 for open-end generation.\n",
      " 34%|███▍      | 37/108 [38:54<1:10:28, 59.56s/it]Setting `pad_token_id` to `eos_token_id`:128001 for open-end generation.\n",
      " 35%|███▌      | 38/108 [39:53<1:09:09, 59.28s/it]Setting `pad_token_id` to `eos_token_id`:128001 for open-end generation.\n",
      " 36%|███▌      | 39/108 [41:07<1:13:22, 63.81s/it]Setting `pad_token_id` to `eos_token_id`:128001 for open-end generation.\n",
      " 37%|███▋      | 40/108 [42:08<1:11:33, 63.14s/it]Setting `pad_token_id` to `eos_token_id`:128001 for open-end generation.\n",
      " 38%|███▊      | 41/108 [42:51<1:03:42, 57.05s/it]Setting `pad_token_id` to `eos_token_id`:128001 for open-end generation.\n",
      " 39%|███▉      | 42/108 [44:01<1:06:57, 60.86s/it]Setting `pad_token_id` to `eos_token_id`:128001 for open-end generation.\n",
      " 40%|███▉      | 43/108 [45:12<1:09:07, 63.81s/it]Setting `pad_token_id` to `eos_token_id`:128001 for open-end generation.\n",
      " 41%|████      | 44/108 [46:04<1:04:15, 60.24s/it]Setting `pad_token_id` to `eos_token_id`:128001 for open-end generation.\n",
      " 42%|████▏     | 45/108 [47:15<1:06:46, 63.59s/it]Setting `pad_token_id` to `eos_token_id`:128001 for open-end generation.\n",
      " 43%|████▎     | 46/108 [48:30<1:09:07, 66.90s/it]Setting `pad_token_id` to `eos_token_id`:128001 for open-end generation.\n",
      " 44%|████▎     | 47/108 [49:30<1:05:57, 64.88s/it]Setting `pad_token_id` to `eos_token_id`:128001 for open-end generation.\n",
      " 44%|████▍     | 48/108 [50:31<1:03:42, 63.70s/it]Setting `pad_token_id` to `eos_token_id`:128001 for open-end generation.\n",
      " 45%|████▌     | 49/108 [51:41<1:04:33, 65.66s/it]Setting `pad_token_id` to `eos_token_id`:128001 for open-end generation.\n",
      " 46%|████▋     | 50/108 [52:34<59:53, 61.96s/it]  Setting `pad_token_id` to `eos_token_id`:128001 for open-end generation.\n",
      " 47%|████▋     | 51/108 [53:30<56:59, 59.98s/it]Setting `pad_token_id` to `eos_token_id`:128001 for open-end generation.\n",
      " 48%|████▊     | 52/108 [54:16<52:08, 55.87s/it]Setting `pad_token_id` to `eos_token_id`:128001 for open-end generation.\n",
      " 49%|████▉     | 53/108 [55:06<49:40, 54.20s/it]Setting `pad_token_id` to `eos_token_id`:128001 for open-end generation.\n",
      " 50%|█████     | 54/108 [55:55<47:14, 52.48s/it]Setting `pad_token_id` to `eos_token_id`:128001 for open-end generation.\n",
      " 51%|█████     | 55/108 [56:51<47:17, 53.54s/it]Setting `pad_token_id` to `eos_token_id`:128001 for open-end generation.\n",
      " 52%|█████▏    | 56/108 [57:48<47:14, 54.51s/it]Setting `pad_token_id` to `eos_token_id`:128001 for open-end generation.\n",
      " 53%|█████▎    | 57/108 [58:53<49:02, 57.69s/it]Setting `pad_token_id` to `eos_token_id`:128001 for open-end generation.\n",
      " 54%|█████▎    | 58/108 [59:41<45:40, 54.82s/it]Setting `pad_token_id` to `eos_token_id`:128001 for open-end generation.\n",
      " 55%|█████▍    | 59/108 [1:00:59<50:22, 61.68s/it]Setting `pad_token_id` to `eos_token_id`:128001 for open-end generation.\n",
      " 56%|█████▌    | 60/108 [1:01:42<45:00, 56.27s/it]Setting `pad_token_id` to `eos_token_id`:128001 for open-end generation.\n",
      " 56%|█████▋    | 61/108 [1:02:32<42:31, 54.29s/it]Setting `pad_token_id` to `eos_token_id`:128001 for open-end generation.\n",
      " 57%|█████▋    | 62/108 [1:03:42<45:22, 59.18s/it]Setting `pad_token_id` to `eos_token_id`:128001 for open-end generation.\n",
      " 58%|█████▊    | 63/108 [1:04:18<39:10, 52.23s/it]Setting `pad_token_id` to `eos_token_id`:128001 for open-end generation.\n",
      " 59%|█████▉    | 64/108 [1:05:08<37:44, 51.46s/it]Setting `pad_token_id` to `eos_token_id`:128001 for open-end generation.\n",
      " 60%|██████    | 65/108 [1:06:18<40:54, 57.07s/it]Setting `pad_token_id` to `eos_token_id`:128001 for open-end generation.\n",
      " 61%|██████    | 66/108 [1:07:08<38:29, 55.00s/it]Setting `pad_token_id` to `eos_token_id`:128001 for open-end generation.\n",
      " 62%|██████▏   | 67/108 [1:08:04<37:43, 55.20s/it]Setting `pad_token_id` to `eos_token_id`:128001 for open-end generation.\n",
      " 63%|██████▎   | 68/108 [1:09:01<37:02, 55.57s/it]Setting `pad_token_id` to `eos_token_id`:128001 for open-end generation.\n",
      " 64%|██████▍   | 69/108 [1:09:50<34:55, 53.73s/it]Setting `pad_token_id` to `eos_token_id`:128001 for open-end generation.\n",
      " 65%|██████▍   | 70/108 [1:10:46<34:24, 54.32s/it]Setting `pad_token_id` to `eos_token_id`:128001 for open-end generation.\n",
      " 66%|██████▌   | 71/108 [1:11:32<32:01, 51.93s/it]Setting `pad_token_id` to `eos_token_id`:128001 for open-end generation.\n",
      " 67%|██████▋   | 72/108 [1:12:20<30:23, 50.64s/it]Setting `pad_token_id` to `eos_token_id`:128001 for open-end generation.\n",
      " 68%|██████▊   | 73/108 [1:12:59<27:28, 47.10s/it]Setting `pad_token_id` to `eos_token_id`:128001 for open-end generation.\n",
      " 69%|██████▊   | 74/108 [1:13:56<28:25, 50.15s/it]Setting `pad_token_id` to `eos_token_id`:128001 for open-end generation.\n",
      " 69%|██████▉   | 75/108 [1:15:00<29:52, 54.31s/it]Setting `pad_token_id` to `eos_token_id`:128001 for open-end generation.\n",
      " 70%|███████   | 76/108 [1:15:46<27:39, 51.86s/it]Setting `pad_token_id` to `eos_token_id`:128001 for open-end generation.\n",
      " 71%|███████▏  | 77/108 [1:16:36<26:32, 51.36s/it]Setting `pad_token_id` to `eos_token_id`:128001 for open-end generation.\n",
      " 72%|███████▏  | 78/108 [1:17:32<26:19, 52.65s/it]Setting `pad_token_id` to `eos_token_id`:128001 for open-end generation.\n",
      " 73%|███████▎  | 79/108 [1:18:32<26:30, 54.83s/it]Setting `pad_token_id` to `eos_token_id`:128001 for open-end generation.\n",
      " 74%|███████▍  | 80/108 [1:19:33<26:25, 56.63s/it]Setting `pad_token_id` to `eos_token_id`:128001 for open-end generation.\n",
      " 75%|███████▌  | 81/108 [1:20:22<24:32, 54.53s/it]Setting `pad_token_id` to `eos_token_id`:128001 for open-end generation.\n",
      " 76%|███████▌  | 82/108 [1:21:14<23:14, 53.64s/it]Setting `pad_token_id` to `eos_token_id`:128001 for open-end generation.\n",
      " 77%|███████▋  | 83/108 [1:22:06<22:12, 53.28s/it]Setting `pad_token_id` to `eos_token_id`:128001 for open-end generation.\n",
      " 78%|███████▊  | 84/108 [1:22:59<21:12, 53.02s/it]Setting `pad_token_id` to `eos_token_id`:128001 for open-end generation.\n",
      " 79%|███████▊  | 85/108 [1:23:50<20:11, 52.66s/it]Setting `pad_token_id` to `eos_token_id`:128001 for open-end generation.\n",
      " 80%|███████▉  | 86/108 [1:24:44<19:24, 52.93s/it]Setting `pad_token_id` to `eos_token_id`:128001 for open-end generation.\n",
      " 81%|████████  | 87/108 [1:25:28<17:37, 50.36s/it]Setting `pad_token_id` to `eos_token_id`:128001 for open-end generation.\n",
      " 81%|████████▏ | 88/108 [1:26:26<17:32, 52.62s/it]Setting `pad_token_id` to `eos_token_id`:128001 for open-end generation.\n",
      " 82%|████████▏ | 89/108 [1:27:19<16:38, 52.54s/it]Setting `pad_token_id` to `eos_token_id`:128001 for open-end generation.\n",
      " 83%|████████▎ | 90/108 [1:28:15<16:05, 53.64s/it]Setting `pad_token_id` to `eos_token_id`:128001 for open-end generation.\n",
      " 84%|████████▍ | 91/108 [1:29:22<16:19, 57.64s/it]Setting `pad_token_id` to `eos_token_id`:128001 for open-end generation.\n",
      " 85%|████████▌ | 92/108 [1:30:29<16:07, 60.44s/it]Setting `pad_token_id` to `eos_token_id`:128001 for open-end generation.\n",
      " 86%|████████▌ | 93/108 [1:31:36<15:38, 62.59s/it]Setting `pad_token_id` to `eos_token_id`:128001 for open-end generation.\n",
      " 87%|████████▋ | 94/108 [1:32:43<14:55, 63.94s/it]Setting `pad_token_id` to `eos_token_id`:128001 for open-end generation.\n",
      " 88%|████████▊ | 95/108 [1:33:26<12:28, 57.59s/it]Setting `pad_token_id` to `eos_token_id`:128001 for open-end generation.\n",
      " 89%|████████▉ | 96/108 [1:34:24<11:31, 57.61s/it]Setting `pad_token_id` to `eos_token_id`:128001 for open-end generation.\n",
      " 90%|████████▉ | 97/108 [1:35:14<10:08, 55.29s/it]Setting `pad_token_id` to `eos_token_id`:128001 for open-end generation.\n",
      " 91%|█████████ | 98/108 [1:36:25<10:01, 60.12s/it]Setting `pad_token_id` to `eos_token_id`:128001 for open-end generation.\n",
      " 92%|█████████▏| 99/108 [1:37:14<08:30, 56.72s/it]Setting `pad_token_id` to `eos_token_id`:128001 for open-end generation.\n",
      " 93%|█████████▎| 100/108 [1:37:58<07:04, 53.01s/it]Setting `pad_token_id` to `eos_token_id`:128001 for open-end generation.\n",
      " 94%|█████████▎| 101/108 [1:38:47<06:02, 51.73s/it]Setting `pad_token_id` to `eos_token_id`:128001 for open-end generation.\n",
      " 94%|█████████▍| 102/108 [1:39:33<04:59, 49.92s/it]Setting `pad_token_id` to `eos_token_id`:128001 for open-end generation.\n",
      " 95%|█████████▌| 103/108 [1:40:32<04:24, 52.82s/it]Setting `pad_token_id` to `eos_token_id`:128001 for open-end generation.\n",
      " 96%|█████████▋| 104/108 [1:41:28<03:35, 53.75s/it]Setting `pad_token_id` to `eos_token_id`:128001 for open-end generation.\n",
      " 97%|█████████▋| 105/108 [1:42:17<02:36, 52.21s/it]Setting `pad_token_id` to `eos_token_id`:128001 for open-end generation.\n",
      " 98%|█████████▊| 106/108 [1:43:22<01:51, 55.97s/it]Setting `pad_token_id` to `eos_token_id`:128001 for open-end generation.\n",
      " 99%|█████████▉| 107/108 [1:44:10<00:53, 53.63s/it]Setting `pad_token_id` to `eos_token_id`:128001 for open-end generation.\n",
      "100%|██████████| 108/108 [1:45:09<00:00, 58.42s/it]\n",
      "2024-12-30 17:35:28,396 - BERTopic - Representation - Completed ✓\n",
      "2024-12-30 17:35:29,487 - BERTopic - WARNING: You are saving a BERTopic model without explicitly defining an embedding model.If you are using a sentence-transformers model or a HuggingFace model supportedby sentence-transformers, please save the model by using a pointer towards that model.For example, `save_embedding_model='sentence-transformers/all-mpnet-base-v2'`\n"
     ]
    },
    {
     "name": "stdout",
     "output_type": "stream",
     "text": [
      "Model saved successfully.\n"
     ]
    }
   ],
   "source": [
    "BT = BertTopic()\n",
    "result_conv_dem = BT.get_topics(paragraphs=paragraphs_dem, filename=\"topics_conv_dem\")\n",
    "result_fewshot_dem = BT.get_topics(paragraphs=paragraphs_dem, filename=\"topics_fewshot_dem\", is_few_shot=True, topics_type=\"dem\")\n",
    "result_conv_hse = BT.get_topics(paragraphs=paragraphs_hse, filename=\"topics_conv_hse\")\n",
    "result_fewshot_hse = BT.get_topics(paragraphs=paragraphs_hse, filename=\"topics_fewshot_hse\", is_few_shot=True, topics_type=\"hse\")"
   ]
  },
  {
   "cell_type": "code",
   "execution_count": 5,
   "metadata": {},
   "outputs": [
    {
     "data": {
      "text/html": [
       "<div>\n",
       "<style scoped>\n",
       "    .dataframe tbody tr th:only-of-type {\n",
       "        vertical-align: middle;\n",
       "    }\n",
       "\n",
       "    .dataframe tbody tr th {\n",
       "        vertical-align: top;\n",
       "    }\n",
       "\n",
       "    .dataframe thead th {\n",
       "        text-align: right;\n",
       "    }\n",
       "</style>\n",
       "<table border=\"1\" class=\"dataframe\">\n",
       "  <thead>\n",
       "    <tr style=\"text-align: right;\">\n",
       "      <th></th>\n",
       "      <th>Number</th>\n",
       "      <th>Keywords</th>\n",
       "      <th>Scores</th>\n",
       "      <th>topics</th>\n",
       "    </tr>\n",
       "  </thead>\n",
       "  <tbody>\n",
       "    <tr>\n",
       "      <th>0</th>\n",
       "      <td>-1</td>\n",
       "      <td>[disasters, disaster, talk, response, technolo...</td>\n",
       "      <td>[0.66213006, 0.64768475, 0.6150311, 0.6131026,...</td>\n",
       "      <td>Disaster Resilience and Utilization of Artifi...</td>\n",
       "    </tr>\n",
       "    <tr>\n",
       "      <th>1</th>\n",
       "      <td>0</td>\n",
       "      <td>[landsat, floods, sensing, flooding, satellite...</td>\n",
       "      <td>[0.71881, 0.6544526, 0.6510002, 0.64924717, 0....</td>\n",
       "      <td>Environmental impacts of urban flooding and r...</td>\n",
       "    </tr>\n",
       "    <tr>\n",
       "      <th>2</th>\n",
       "      <td>1</td>\n",
       "      <td>[ai, disasters, analytics, technologies, algor...</td>\n",
       "      <td>[0.6929591, 0.61474663, 0.59913355, 0.592487, ...</td>\n",
       "      <td>Artificial Intelligence in Disaster Management</td>\n",
       "    </tr>\n",
       "    <tr>\n",
       "      <th>3</th>\n",
       "      <td>2</td>\n",
       "      <td>[earthquakes, seismic, earthquake, liquefactio...</td>\n",
       "      <td>[0.7056249, 0.68656886, 0.6598463, 0.6497767, ...</td>\n",
       "      <td>Machine Learning Applications in Earth Scienc...</td>\n",
       "    </tr>\n",
       "    <tr>\n",
       "      <th>4</th>\n",
       "      <td>3</td>\n",
       "      <td>[preparedness, emergencies, evacuate, prepare,...</td>\n",
       "      <td>[0.715209, 0.7061695, 0.68774116, 0.6874632, 0...</td>\n",
       "      <td>Emergency Preparedness and Response</td>\n",
       "    </tr>\n",
       "    <tr>\n",
       "      <th>...</th>\n",
       "      <td>...</td>\n",
       "      <td>...</td>\n",
       "      <td>...</td>\n",
       "      <td>...</td>\n",
       "    </tr>\n",
       "    <tr>\n",
       "      <th>74</th>\n",
       "      <td>73</td>\n",
       "      <td>[ai, algorithms, actuarial, leveraging, actuar...</td>\n",
       "      <td>[0.69038916, 0.63820773, 0.63776004, 0.6367227...</td>\n",
       "      <td>Environmental and Social Impact of AI in the ...</td>\n",
       "    </tr>\n",
       "    <tr>\n",
       "      <th>75</th>\n",
       "      <td>74</td>\n",
       "      <td>[scotland, conservation, edinburgh, scottish, ...</td>\n",
       "      <td>[0.66746104, 0.65448564, 0.6487241, 0.64365715...</td>\n",
       "      <td>Climate Change Adaptation in Scotland's Cultu...</td>\n",
       "    </tr>\n",
       "    <tr>\n",
       "      <th>76</th>\n",
       "      <td>75</td>\n",
       "      <td>[ai, communications, communication, communicat...</td>\n",
       "      <td>[0.6819091, 0.6579471, 0.6568199, 0.6485001, 0...</td>\n",
       "      <td>Environmental impact of language barriers in ...</td>\n",
       "    </tr>\n",
       "    <tr>\n",
       "      <th>77</th>\n",
       "      <td>76</td>\n",
       "      <td>[populations, conflict, population, iraq, bagh...</td>\n",
       "      <td>[0.64009595, 0.6313702, 0.6119294, 0.6098175, ...</td>\n",
       "      <td>Cities and conflict: the impact of war on hum...</td>\n",
       "    </tr>\n",
       "    <tr>\n",
       "      <th>78</th>\n",
       "      <td>77</td>\n",
       "      <td>[ai, blockchain, infrastructure, technologies,...</td>\n",
       "      <td>[0.6885945, 0.659042, 0.6381386, 0.6288097, 0....</td>\n",
       "      <td>AI and Blockchain in Smart Cities</td>\n",
       "    </tr>\n",
       "  </tbody>\n",
       "</table>\n",
       "<p>79 rows × 4 columns</p>\n",
       "</div>"
      ],
      "text/plain": [
       "    Number                                           Keywords  \\\n",
       "0       -1  [disasters, disaster, talk, response, technolo...   \n",
       "1        0  [landsat, floods, sensing, flooding, satellite...   \n",
       "2        1  [ai, disasters, analytics, technologies, algor...   \n",
       "3        2  [earthquakes, seismic, earthquake, liquefactio...   \n",
       "4        3  [preparedness, emergencies, evacuate, prepare,...   \n",
       "..     ...                                                ...   \n",
       "74      73  [ai, algorithms, actuarial, leveraging, actuar...   \n",
       "75      74  [scotland, conservation, edinburgh, scottish, ...   \n",
       "76      75  [ai, communications, communication, communicat...   \n",
       "77      76  [populations, conflict, population, iraq, bagh...   \n",
       "78      77  [ai, blockchain, infrastructure, technologies,...   \n",
       "\n",
       "                                               Scores  \\\n",
       "0   [0.66213006, 0.64768475, 0.6150311, 0.6131026,...   \n",
       "1   [0.71881, 0.6544526, 0.6510002, 0.64924717, 0....   \n",
       "2   [0.6929591, 0.61474663, 0.59913355, 0.592487, ...   \n",
       "3   [0.7056249, 0.68656886, 0.6598463, 0.6497767, ...   \n",
       "4   [0.715209, 0.7061695, 0.68774116, 0.6874632, 0...   \n",
       "..                                                ...   \n",
       "74  [0.69038916, 0.63820773, 0.63776004, 0.6367227...   \n",
       "75  [0.66746104, 0.65448564, 0.6487241, 0.64365715...   \n",
       "76  [0.6819091, 0.6579471, 0.6568199, 0.6485001, 0...   \n",
       "77  [0.64009595, 0.6313702, 0.6119294, 0.6098175, ...   \n",
       "78  [0.6885945, 0.659042, 0.6381386, 0.6288097, 0....   \n",
       "\n",
       "                                               topics  \n",
       "0    Disaster Resilience and Utilization of Artifi...  \n",
       "1    Environmental impacts of urban flooding and r...  \n",
       "2      Artificial Intelligence in Disaster Management  \n",
       "3    Machine Learning Applications in Earth Scienc...  \n",
       "4                 Emergency Preparedness and Response  \n",
       "..                                                ...  \n",
       "74   Environmental and Social Impact of AI in the ...  \n",
       "75   Climate Change Adaptation in Scotland's Cultu...  \n",
       "76   Environmental impact of language barriers in ...  \n",
       "77   Cities and conflict: the impact of war on hum...  \n",
       "78                  AI and Blockchain in Smart Cities  \n",
       "\n",
       "[79 rows x 4 columns]"
      ]
     },
     "execution_count": 5,
     "metadata": {},
     "output_type": "execute_result"
    }
   ],
   "source": [
    "result_fewshot_dem"
   ]
  },
  {
   "cell_type": "markdown",
   "metadata": {},
   "source": [
    "### Fine-Tune Classifier"
   ]
  },
  {
   "cell_type": "code",
   "execution_count": 2,
   "metadata": {},
   "outputs": [
    {
     "name": "stderr",
     "output_type": "stream",
     "text": [
      "model_head.pkl not found on HuggingFace Hub, initialising classification head with random weights. You should TRAIN this model on a downstream task to use it for predictions and inference.\n",
      "Currently using DataParallel (DP) for multi-gpu training, while DistributedDataParallel (DDP) is recommended for faster training. See https://sbert.net/docs/sentence_transformer/training/distributed.html for more information.\n"
     ]
    },
    {
     "data": {
      "application/vnd.jupyter.widget-view+json": {
       "model_id": "2cc18d5a018746e3959e789c73c57a31",
       "version_major": 2,
       "version_minor": 0
      },
      "text/plain": [
       "Map:   0%|          | 0/160 [00:00<?, ? examples/s]"
      ]
     },
     "metadata": {},
     "output_type": "display_data"
    },
    {
     "name": "stderr",
     "output_type": "stream",
     "text": [
      "***** Running training *****\n",
      "  Num unique pairs = 12880\n",
      "  Batch size = 16\n",
      "  Num epochs = 1\n"
     ]
    },
    {
     "data": {
      "text/html": [
       "\n",
       "    <div>\n",
       "      \n",
       "      <progress value='202' max='202' style='width:300px; height:20px; vertical-align: middle;'></progress>\n",
       "      [202/202 00:27, Epoch 1/1]\n",
       "    </div>\n",
       "    <table border=\"1\" class=\"dataframe\">\n",
       "  <thead>\n",
       " <tr style=\"text-align: left;\">\n",
       "      <th>Step</th>\n",
       "      <th>Training Loss</th>\n",
       "      <th>Validation Loss</th>\n",
       "    </tr>\n",
       "  </thead>\n",
       "  <tbody>\n",
       "    <tr>\n",
       "      <td>20</td>\n",
       "      <td>0.220700</td>\n",
       "      <td>0.177177</td>\n",
       "    </tr>\n",
       "    <tr>\n",
       "      <td>40</td>\n",
       "      <td>0.166200</td>\n",
       "      <td>0.106601</td>\n",
       "    </tr>\n",
       "    <tr>\n",
       "      <td>60</td>\n",
       "      <td>0.082700</td>\n",
       "      <td>0.081038</td>\n",
       "    </tr>\n",
       "    <tr>\n",
       "      <td>80</td>\n",
       "      <td>0.038700</td>\n",
       "      <td>0.078453</td>\n",
       "    </tr>\n",
       "    <tr>\n",
       "      <td>100</td>\n",
       "      <td>0.019200</td>\n",
       "      <td>0.074794</td>\n",
       "    </tr>\n",
       "    <tr>\n",
       "      <td>120</td>\n",
       "      <td>0.009800</td>\n",
       "      <td>0.077936</td>\n",
       "    </tr>\n",
       "    <tr>\n",
       "      <td>140</td>\n",
       "      <td>0.006400</td>\n",
       "      <td>0.079420</td>\n",
       "    </tr>\n",
       "    <tr>\n",
       "      <td>160</td>\n",
       "      <td>0.005400</td>\n",
       "      <td>0.080536</td>\n",
       "    </tr>\n",
       "    <tr>\n",
       "      <td>180</td>\n",
       "      <td>0.005500</td>\n",
       "      <td>0.082035</td>\n",
       "    </tr>\n",
       "    <tr>\n",
       "      <td>200</td>\n",
       "      <td>0.005000</td>\n",
       "      <td>0.082227</td>\n",
       "    </tr>\n",
       "  </tbody>\n",
       "</table><p>"
      ],
      "text/plain": [
       "<IPython.core.display.HTML object>"
      ]
     },
     "metadata": {},
     "output_type": "display_data"
    },
    {
     "data": {
      "application/vnd.jupyter.widget-view+json": {
       "model_id": "ee2012d9a9ae4fb5a45d3c8098766207",
       "version_major": 2,
       "version_minor": 0
      },
      "text/plain": [
       "Computing widget examples:   0%|          | 0/1 [00:00<?, ?example/s]"
      ]
     },
     "metadata": {},
     "output_type": "display_data"
    },
    {
     "name": "stderr",
     "output_type": "stream",
     "text": [
      "***** Running evaluation *****\n"
     ]
    },
    {
     "name": "stdout",
     "output_type": "stream",
     "text": [
      "{'accuracy': 0.95,\n",
      " 'f1': 0.9523809523809523,\n",
      " 'precision': 0.9090909090909091,\n",
      " 'recall': 1.0}\n"
     ]
    },
    {
     "data": {
      "application/vnd.jupyter.widget-view+json": {
       "model_id": "f5543221be93402881a0ae71f6e52a74",
       "version_major": 2,
       "version_minor": 0
      },
      "text/plain": [
       "model.safetensors:   0%|          | 0.00/90.9M [00:00<?, ?B/s]"
      ]
     },
     "metadata": {},
     "output_type": "display_data"
    },
    {
     "data": {
      "application/vnd.jupyter.widget-view+json": {
       "model_id": "24abd90c759549b2930de9e6bb6b7bca",
       "version_major": 2,
       "version_minor": 0
      },
      "text/plain": [
       "Upload 2 LFS files:   0%|          | 0/2 [00:00<?, ?it/s]"
      ]
     },
     "metadata": {},
     "output_type": "display_data"
    },
    {
     "data": {
      "application/vnd.jupyter.widget-view+json": {
       "model_id": "69c0f5d8b55f4bf2973413b71a098719",
       "version_major": 2,
       "version_minor": 0
      },
      "text/plain": [
       "model_head.pkl:   0%|          | 0.00/3.94k [00:00<?, ?B/s]"
      ]
     },
     "metadata": {},
     "output_type": "display_data"
    }
   ],
   "source": [
    "RUNNER = Train(model_name='sentence-transformers/all-MiniLM-L6-v2',\n",
    "               dataset_path='data/train/setfit.csv')\n",
    "\n",
    "train, validation, test = RUNNER.split_data()\n",
    "RUNNER.train(train_dataset=train, eval_dataset=validation)"
   ]
  },
  {
   "cell_type": "code",
   "execution_count": 36,
   "metadata": {},
   "outputs": [
    {
     "name": "stdout",
     "output_type": "stream",
     "text": [
      "Accuracy: 1.0\n",
      "Precision: 1.0\n",
      "Recall: 1.0\n",
      "F1: 1.0\n"
     ]
    }
   ],
   "source": [
    "# Test the trained model\n",
    "model = SetFitModel.from_pretrained('sharukat/adersim-dem-hse')\n",
    "preds = model.predict(test['text'])\n",
    "preds = preds.tolist() \n",
    "\n",
    "accuracy = accuracy_score(test['label'], preds)\n",
    "precision = precision_score(test['label'], preds, average=\"binary\")\n",
    "recall = recall_score(test['label'], preds, average=\"binary\")\n",
    "f1 = f1_score(test['label'], preds, average=\"binary\")\n",
    "\n",
    "print(f\"Accuracy: {accuracy}\")\n",
    "print(f\"Precision: {precision}\")\n",
    "print(f\"Recall: {recall}\")\n",
    "print(f\"F1: {f1}\")"
   ]
  },
  {
   "cell_type": "code",
   "execution_count": 38,
   "metadata": {},
   "outputs": [
    {
     "name": "stdout",
     "output_type": "stream",
     "text": [
      "              precision    recall  f1-score   support\n",
      "\n",
      "           0       1.00      1.00      1.00        10\n",
      "           1       1.00      1.00      1.00        10\n",
      "\n",
      "    accuracy                           1.00        20\n",
      "   macro avg       1.00      1.00      1.00        20\n",
      "weighted avg       1.00      1.00      1.00        20\n",
      "\n"
     ]
    }
   ],
   "source": [
    "print(classification_report(test['label'], preds))"
   ]
  }
 ],
 "metadata": {
  "kernelspec": {
   "display_name": "adersim-app-2-analyse-14fX-SLK-py3.9",
   "language": "python",
   "name": "python3"
  },
  "language_info": {
   "codemirror_mode": {
    "name": "ipython",
    "version": 3
   },
   "file_extension": ".py",
   "mimetype": "text/x-python",
   "name": "python",
   "nbconvert_exporter": "python",
   "pygments_lexer": "ipython3",
   "version": "3.9.12"
  }
 },
 "nbformat": 4,
 "nbformat_minor": 2
}
