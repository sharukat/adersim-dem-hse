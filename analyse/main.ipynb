{
 "cells": [
  {
   "cell_type": "code",
   "execution_count": 1,
   "metadata": {},
   "outputs": [],
   "source": [
    "import os\n",
    "import pandas as pd\n",
    "from lib.youtube import YouTube\n",
    "from lib.constants import DEM_KEYWORDS, HSE_KEYWORDS, BASE_DATA_PATH\n",
    "from lib.utils import preprocess_text, fix_punctuations, count_tokens\n",
    "from tqdm.notebook import tqdm_notebook\n",
    "from tqdm import tqdm\n",
    "from lib.classify import classifier\n",
    "from lib.createdb import VectorDB\n",
    "from langdetect import detect\n",
    "from langchain_qdrant import QdrantVectorStore, RetrievalMode\n",
    "from langchain_ollama import OllamaEmbeddings\n",
    "from pprint import pprint"
   ]
  },
  {
   "cell_type": "markdown",
   "metadata": {},
   "source": [
    "### Extract relevant video data from YouTube"
   ]
  },
  {
   "cell_type": "code",
   "execution_count": null,
   "metadata": {},
   "outputs": [],
   "source": [
    "YT = YouTube(keywords=HSE_KEYWORDS, filename=\"youtube_HSE\")\n",
    "YT.get_transcript()"
   ]
  },
  {
   "cell_type": "markdown",
   "metadata": {},
   "source": [
    "### Data Preprocessing"
   ]
  },
  {
   "cell_type": "code",
   "execution_count": null,
   "metadata": {},
   "outputs": [],
   "source": [
    "df = pd.read_csv(\"data/youtube_HSE.csv\")\n",
    "tqdm.pandas()\n",
    "\n",
    "# Detect the language\n",
    "df['lang'] = df['transcript'].progress_apply(lambda x: detect(x))\n",
    "df = df[df['lang'] == 'en']\n",
    "\n",
    "# Preprocess\n",
    "df['transcript'] = df['transcript'].progress_apply(preprocess_text)\n",
    "df['transcript'] = df['transcript'].progress_apply(fix_punctuations)\n",
    "\n",
    "df.to_csv(os.path.join(BASE_DATA_PATH, 'youtube_hse_v1.csv'), index=False)"
   ]
  },
  {
   "cell_type": "markdown",
   "metadata": {},
   "source": [
    "### Video Classification"
   ]
  },
  {
   "cell_type": "code",
   "execution_count": 5,
   "metadata": {},
   "outputs": [
    {
     "data": {
      "application/vnd.jupyter.widget-view+json": {
       "model_id": "e7939e5daa7d4ea1a95a84a8dde2d45a",
       "version_major": 2,
       "version_minor": 0
      },
      "text/plain": [
       "  0%|          | 0/1301 [00:00<?, ?it/s]"
      ]
     },
     "metadata": {},
     "output_type": "display_data"
    },
    {
     "data": {
      "text/plain": [
       "is_related\n",
       "yes    863\n",
       "no     438\n",
       "Name: count, dtype: int64"
      ]
     },
     "execution_count": 5,
     "metadata": {},
     "output_type": "execute_result"
    }
   ],
   "source": [
    "df = pd.read_csv(os.path.join(BASE_DATA_PATH, 'youtube_hse_v1.csv'))\n",
    "\n",
    "decisions = []\n",
    "for index, row in tqdm_notebook(df.iterrows(), total=df.shape[0]):\n",
    "    try:\n",
    "        result = classifier(\n",
    "            text=row['transcript'],\n",
    "            context=\"Health, Safety and Environment (HSE)\")\n",
    "        decisions.append(result['output'])\n",
    "    except Exception as e:\n",
    "        print(f\"Issue in index: {index}\")\n",
    "        print(e)\n",
    "        decisions.append('N/A')\n",
    "        pass\n",
    "\n",
    "df['is_related'] = decisions\n",
    "df['is_related'].value_counts()"
   ]
  },
  {
   "cell_type": "code",
   "execution_count": 6,
   "metadata": {},
   "outputs": [],
   "source": [
    "condition = df['is_related'] == 'yes'\n",
    "df_new = df[condition]\n",
    "df_new.to_csv(\n",
    "    os.path.join(BASE_DATA_PATH, 'youtube_hse_v2.csv'), \n",
    "    index=False)"
   ]
  },
  {
   "cell_type": "markdown",
   "metadata": {},
   "source": [
    "### Semantic Chunking"
   ]
  },
  {
   "cell_type": "code",
   "execution_count": 8,
   "metadata": {},
   "outputs": [
    {
     "name": "stderr",
     "output_type": "stream",
     "text": [
      "100%|██████████| 792/792 [00:00<00:00, 109053.83it/s]\n",
      "Processing Documents: 100%|██████████| 792/792 [4:34:31<00:00, 20.80s/it]   \n"
     ]
    }
   ],
   "source": [
    "df = pd.read_csv(os.path.join(BASE_DATA_PATH, 'youtube_dem_v2.csv'))\n",
    "VDB = VectorDB(model=\"qwen2.5:32b\", dataframe=df)\n",
    "chunks = VDB.create_chunks()"
   ]
  },
  {
   "cell_type": "code",
   "execution_count": 9,
   "metadata": {},
   "outputs": [
    {
     "data": {
      "text/html": [
       "<div>\n",
       "<style scoped>\n",
       "    .dataframe tbody tr th:only-of-type {\n",
       "        vertical-align: middle;\n",
       "    }\n",
       "\n",
       "    .dataframe tbody tr th {\n",
       "        vertical-align: top;\n",
       "    }\n",
       "\n",
       "    .dataframe thead th {\n",
       "        text-align: right;\n",
       "    }\n",
       "</style>\n",
       "<table border=\"1\" class=\"dataframe\">\n",
       "  <thead>\n",
       "    <tr style=\"text-align: right;\">\n",
       "      <th></th>\n",
       "      <th>video_id</th>\n",
       "      <th>title</th>\n",
       "      <th>url</th>\n",
       "      <th>language</th>\n",
       "      <th>page_content</th>\n",
       "    </tr>\n",
       "  </thead>\n",
       "  <tbody>\n",
       "    <tr>\n",
       "      <th>0</th>\n",
       "      <td>7Iu_lvcxK0w</td>\n",
       "      <td>How Artificial Intelligence Can Help Communiti...</td>\n",
       "      <td>https://www.youtube.com/watch?v=7Iu_lvcxK0w</td>\n",
       "      <td>en</td>\n",
       "      <td>in a sunny day in july 2017, i drove my car do...</td>\n",
       "    </tr>\n",
       "    <tr>\n",
       "      <th>1</th>\n",
       "      <td>7Iu_lvcxK0w</td>\n",
       "      <td>How Artificial Intelligence Can Help Communiti...</td>\n",
       "      <td>https://www.youtube.com/watch?v=7Iu_lvcxK0w</td>\n",
       "      <td>en</td>\n",
       "      <td>the latest us census data showed that in a spa...</td>\n",
       "    </tr>\n",
       "    <tr>\n",
       "      <th>2</th>\n",
       "      <td>7Iu_lvcxK0w</td>\n",
       "      <td>How Artificial Intelligence Can Help Communiti...</td>\n",
       "      <td>https://www.youtube.com/watch?v=7Iu_lvcxK0w</td>\n",
       "      <td>en</td>\n",
       "      <td>california in the 19 years of the past 20 year...</td>\n",
       "    </tr>\n",
       "    <tr>\n",
       "      <th>3</th>\n",
       "      <td>7Iu_lvcxK0w</td>\n",
       "      <td>How Artificial Intelligence Can Help Communiti...</td>\n",
       "      <td>https://www.youtube.com/watch?v=7Iu_lvcxK0w</td>\n",
       "      <td>en</td>\n",
       "      <td>some of you may think: well, my phone. well, t...</td>\n",
       "    </tr>\n",
       "    <tr>\n",
       "      <th>4</th>\n",
       "      <td>k_usYJ7nErM</td>\n",
       "      <td>The Role Of AI In Disaster Management</td>\n",
       "      <td>https://www.youtube.com/watch?v=k_usYJ7nErM</td>\n",
       "      <td>en</td>\n",
       "      <td>hi and Welcome to our Channel. disasters can s...</td>\n",
       "    </tr>\n",
       "    <tr>\n",
       "      <th>...</th>\n",
       "      <td>...</td>\n",
       "      <td>...</td>\n",
       "      <td>...</td>\n",
       "      <td>...</td>\n",
       "      <td>...</td>\n",
       "    </tr>\n",
       "    <tr>\n",
       "      <th>6197</th>\n",
       "      <td>OFWDK657e5w</td>\n",
       "      <td>AI Presidents Trapped During a Hurricane (AI P...</td>\n",
       "      <td>https://www.youtube.com/watch?v=OFWDK657e5w</td>\n",
       "      <td>en</td>\n",
       "      <td>so you're saying that if I walk away from you ...</td>\n",
       "    </tr>\n",
       "    <tr>\n",
       "      <th>6198</th>\n",
       "      <td>nZdnju6_EMU</td>\n",
       "      <td>Fake AI Images During Hurricane Helene | On Th...</td>\n",
       "      <td>https://www.youtube.com/watch?v=nZdnju6_EMU</td>\n",
       "      <td>en</td>\n",
       "      <td>have you seen a picture of a little girl holdi...</td>\n",
       "    </tr>\n",
       "    <tr>\n",
       "      <th>6199</th>\n",
       "      <td>nZdnju6_EMU</td>\n",
       "      <td>Fake AI Images During Hurricane Helene | On Th...</td>\n",
       "      <td>https://www.youtube.com/watch?v=nZdnju6_EMU</td>\n",
       "      <td>en</td>\n",
       "      <td>yeah, that's a fake AI photo. welcome back to ...</td>\n",
       "    </tr>\n",
       "    <tr>\n",
       "      <th>6200</th>\n",
       "      <td>MatKrPBLOsg</td>\n",
       "      <td>A new era in hurricane tracking: how AI drones...</td>\n",
       "      <td>https://www.youtube.com/watch?v=MatKrPBLOsg</td>\n",
       "      <td>en</td>\n",
       "      <td>Would you fly into a hurricane to change the f...</td>\n",
       "    </tr>\n",
       "    <tr>\n",
       "      <th>6201</th>\n",
       "      <td>MatKrPBLOsg</td>\n",
       "      <td>A new era in hurricane tracking: how AI drones...</td>\n",
       "      <td>https://www.youtube.com/watch?v=MatKrPBLOsg</td>\n",
       "      <td>en</td>\n",
       "      <td>ALTIUS fought 350 kph winds, sending back cruc...</td>\n",
       "    </tr>\n",
       "  </tbody>\n",
       "</table>\n",
       "<p>6202 rows × 5 columns</p>\n",
       "</div>"
      ],
      "text/plain": [
       "         video_id                                              title  \\\n",
       "0     7Iu_lvcxK0w  How Artificial Intelligence Can Help Communiti...   \n",
       "1     7Iu_lvcxK0w  How Artificial Intelligence Can Help Communiti...   \n",
       "2     7Iu_lvcxK0w  How Artificial Intelligence Can Help Communiti...   \n",
       "3     7Iu_lvcxK0w  How Artificial Intelligence Can Help Communiti...   \n",
       "4     k_usYJ7nErM              The Role Of AI In Disaster Management   \n",
       "...           ...                                                ...   \n",
       "6197  OFWDK657e5w  AI Presidents Trapped During a Hurricane (AI P...   \n",
       "6198  nZdnju6_EMU  Fake AI Images During Hurricane Helene | On Th...   \n",
       "6199  nZdnju6_EMU  Fake AI Images During Hurricane Helene | On Th...   \n",
       "6200  MatKrPBLOsg  A new era in hurricane tracking: how AI drones...   \n",
       "6201  MatKrPBLOsg  A new era in hurricane tracking: how AI drones...   \n",
       "\n",
       "                                              url language  \\\n",
       "0     https://www.youtube.com/watch?v=7Iu_lvcxK0w       en   \n",
       "1     https://www.youtube.com/watch?v=7Iu_lvcxK0w       en   \n",
       "2     https://www.youtube.com/watch?v=7Iu_lvcxK0w       en   \n",
       "3     https://www.youtube.com/watch?v=7Iu_lvcxK0w       en   \n",
       "4     https://www.youtube.com/watch?v=k_usYJ7nErM       en   \n",
       "...                                           ...      ...   \n",
       "6197  https://www.youtube.com/watch?v=OFWDK657e5w       en   \n",
       "6198  https://www.youtube.com/watch?v=nZdnju6_EMU       en   \n",
       "6199  https://www.youtube.com/watch?v=nZdnju6_EMU       en   \n",
       "6200  https://www.youtube.com/watch?v=MatKrPBLOsg       en   \n",
       "6201  https://www.youtube.com/watch?v=MatKrPBLOsg       en   \n",
       "\n",
       "                                           page_content  \n",
       "0     in a sunny day in july 2017, i drove my car do...  \n",
       "1     the latest us census data showed that in a spa...  \n",
       "2     california in the 19 years of the past 20 year...  \n",
       "3     some of you may think: well, my phone. well, t...  \n",
       "4     hi and Welcome to our Channel. disasters can s...  \n",
       "...                                                 ...  \n",
       "6197  so you're saying that if I walk away from you ...  \n",
       "6198  have you seen a picture of a little girl holdi...  \n",
       "6199  yeah, that's a fake AI photo. welcome back to ...  \n",
       "6200  Would you fly into a hurricane to change the f...  \n",
       "6201  ALTIUS fought 350 kph winds, sending back cruc...  \n",
       "\n",
       "[6202 rows x 5 columns]"
      ]
     },
     "execution_count": 9,
     "metadata": {},
     "output_type": "execute_result"
    }
   ],
   "source": [
    "data = [{**doc.metadata, 'page_content': doc.page_content} for doc in chunks]\n",
    "docs_df = pd.DataFrame(data)\n",
    "docs_df.to_csv(os.path.join(BASE_DATA_PATH, \"yt_chunks_qwen2.5-32b-dem.csv\"), index=False)\n",
    "docs_df"
   ]
  },
  {
   "cell_type": "markdown",
   "metadata": {},
   "source": [
    "### Creating the Vector Database"
   ]
  },
  {
   "cell_type": "code",
   "execution_count": 2,
   "metadata": {},
   "outputs": [
    {
     "data": {
      "application/vnd.jupyter.widget-view+json": {
       "model_id": "969be88964b44cdc8344fea436c7ed6c",
       "version_major": 2,
       "version_minor": 0
      },
      "text/plain": [
       "  0%|          | 0/15055 [00:00<?, ?it/s]"
      ]
     },
     "metadata": {},
     "output_type": "display_data"
    }
   ],
   "source": [
    "df1 = pd.read_csv(os.path.join(BASE_DATA_PATH, \"yt_chunks_qwen2.5-32b-dem.csv\"))\n",
    "df2 = pd.read_csv(os.path.join(BASE_DATA_PATH, \"yt_chunks_qwen2.5-32b-hse.csv\"))\n",
    "\n",
    "# Concat two dataframes\n",
    "df = pd.concat([df1, df2])\n",
    "\n",
    "\n",
    "lengths = count_tokens(df)\n",
    "df['token_length'] = lengths\n",
    "df = df[df['token_length'] >= 100]"
   ]
  },
  {
   "cell_type": "code",
   "execution_count": 3,
   "metadata": {},
   "outputs": [
    {
     "name": "stderr",
     "output_type": "stream",
     "text": [
      "100%|██████████| 10438/10438 [00:00<00:00, 93565.91it/s]\n"
     ]
    },
    {
     "name": "stdout",
     "output_type": "stream",
     "text": [
      "10438 documents added to the vector store.\n"
     ]
    }
   ],
   "source": [
    "DB = VectorDB(model=\"qwen2.5:32b\", dataframe=df)\n",
    "documents = DB.get_documents()\n",
    "DB.create_vectordb(documents=documents)"
   ]
  },
  {
   "cell_type": "markdown",
   "metadata": {},
   "source": [
    "Create a vector database snapshot"
   ]
  },
  {
   "cell_type": "code",
   "execution_count": null,
   "metadata": {},
   "outputs": [],
   "source": [
    "from qdrant_client import QdrantClient\n",
    "\n",
    "client = QdrantClient(path=\"/home/lab1/Documents/DEM_HSE/backend/qdrant/qwen-32b\")\n",
    "client.create_snapshot(collection_name=\"youtube_collection\")"
   ]
  },
  {
   "cell_type": "code",
   "execution_count": null,
   "metadata": {},
   "outputs": [],
   "source": [
    "vector_store = QdrantVectorStore.from_existing_collection(\n",
    "    embedding=OllamaEmbeddings(model=\"qwen2.5:32b\"),\n",
    "    path=\"/home/lab1/Documents/DEM_HSE/backend/qdrant/qwen-32b\",\n",
    "    collection_name=\"youtube_collection\",\n",
    "    retrieval_mode=RetrievalMode.DENSE,\n",
    ")\n",
    "\n",
    "retriever = vector_store.as_retriever()\n",
    "result = retriever.invoke(\"What are the trending AI technologies in Disaster Management?\")\n",
    "pprint(result)"
   ]
  },
  {
   "cell_type": "markdown",
   "metadata": {},
   "source": [
    "### Topic Modeling"
   ]
  },
  {
   "cell_type": "code",
   "execution_count": null,
   "metadata": {},
   "outputs": [],
   "source": []
  }
 ],
 "metadata": {
  "kernelspec": {
   "display_name": "adersim-app-2-analyse-14fX-SLK-py3.9",
   "language": "python",
   "name": "python3"
  },
  "language_info": {
   "codemirror_mode": {
    "name": "ipython",
    "version": 3
   },
   "file_extension": ".py",
   "mimetype": "text/x-python",
   "name": "python",
   "nbconvert_exporter": "python",
   "pygments_lexer": "ipython3",
   "version": "3.9.12"
  }
 },
 "nbformat": 4,
 "nbformat_minor": 2
}
